import matplotlib.pyplot as plt
import cv2
cap = cv2.VideoCapture(0)
ret,frame = cap.read()
plt.imshow(frame)
